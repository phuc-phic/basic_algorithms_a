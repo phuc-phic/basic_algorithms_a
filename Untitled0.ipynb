{
  "nbformat": 4,
  "nbformat_minor": 0,
  "metadata": {
    "colab": {
      "name": "Untitled0.ipynb",
      "provenance": []
    },
    "kernelspec": {
      "name": "python3",
      "display_name": "Python 3"
    }
  },
  "cells": [
    {
      "cell_type": "markdown",
      "metadata": {
        "id": "V0bCXyYZC7L_",
        "colab_type": "text"
      },
      "source": [
        "# 初めてのノートブック\n",
        "\n",
        "**コードを書いてみましょう**\n"
      ]
    },
    {
      "cell_type": "code",
      "metadata": {
        "id": "f6xjBjj8EQl3",
        "colab_type": "code",
        "outputId": "4be7b0ab-f944-46a9-a670-469245199ee5",
        "colab": {
          "base_uri": "https://localhost:8080/",
          "height": 34
        }
      },
      "source": [
        "#計算する\n",
        "\n",
        "2*(3+4)"
      ],
      "execution_count": 0,
      "outputs": [
        {
          "output_type": "execute_result",
          "data": {
            "text/plain": [
              "14"
            ]
          },
          "metadata": {
            "tags": []
          },
          "execution_count": 1
        }
      ]
    },
    {
      "cell_type": "markdown",
      "metadata": {
        "id": "m-fhGmAWFAFE",
        "colab_type": "text"
      },
      "source": [
        "*出力してみましょう*\n",
        "\n",
        "\n",
        "```\n",
        "# First value: 1\n",
        "```"
      ]
    },
    {
      "cell_type": "code",
      "metadata": {
        "id": "ZUFmH2rQGTcS",
        "colab_type": "code",
        "outputId": "b4906620-a9b3-4ce7-d7fb-20adc3e97a89",
        "colab": {
          "base_uri": "https://localhost:8080/",
          "height": 34
        }
      },
      "source": [
        "'''\n",
        "値を出力する\n",
        "'''\n",
        "\n",
        "print ('First value: ' , 1)"
      ],
      "execution_count": 0,
      "outputs": [
        {
          "output_type": "stream",
          "text": [
            "First value:  1\n"
          ],
          "name": "stdout"
        }
      ]
    },
    {
      "cell_type": "markdown",
      "metadata": {
        "id": "o1p37bwYHqHs",
        "colab_type": "text"
      },
      "source": [
        "**`sort`の関数を呼び出す**\n",
        "\n",
        "\n",
        "１.    以上のリストを作る\n",
        "\n",
        "\n",
        "```\n",
        "Numbers = [4, 3, 2, 1]\n",
        "```\n",
        "\n",
        "2.    `Sort()` の関数を使って、リストをソートする。\n",
        "\n",
        "\n",
        "3.    `print`を使って、出カする。"
      ]
    },
    {
      "cell_type": "code",
      "metadata": {
        "id": "cL1_dq7xKUbC",
        "colab_type": "code",
        "outputId": "57b805bf-7362-4ad0-e33f-3879d75f7370",
        "colab": {
          "base_uri": "https://localhost:8080/",
          "height": 34
        }
      },
      "source": [
        "Numbers = [4, 3, 2, 1]\n",
        "Numbers. sort()\n",
        "print(Numbers)"
      ],
      "execution_count": 0,
      "outputs": [
        {
          "output_type": "stream",
          "text": [
            "[1, 2, 3, 4]\n"
          ],
          "name": "stdout"
        }
      ]
    },
    {
      "cell_type": "markdown",
      "metadata": {
        "id": "t11QRSnPLNlL",
        "colab_type": "text"
      },
      "source": [
        ""
      ]
    }
  ]
}